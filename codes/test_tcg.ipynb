{
 "metadata": {
  "language_info": {
   "codemirror_mode": {
    "name": "ipython",
    "version": 3
   },
   "file_extension": ".py",
   "mimetype": "text/x-python",
   "name": "python",
   "nbconvert_exporter": "python",
   "pygments_lexer": "ipython3",
   "version": "3.7.0"
  },
  "orig_nbformat": 2,
  "kernelspec": {
   "name": "python3",
   "display_name": "Python 3"
  }
 },
 "nbformat": 4,
 "nbformat_minor": 2,
 "cells": [
  {
   "cell_type": "code",
   "execution_count": 1,
   "metadata": {},
   "outputs": [],
   "source": [
    "import numpy as np\n",
    "import torch \n",
    "raw_data = np.load(\"data/tcg_data.npy\", allow_pickle=True)\n",
    "unpacked = [torch.tensor(seq) for seq in raw_data]\n",
    "tensor_data = torch.cat(unpacked, axis=0)"
   ]
  },
  {
   "cell_type": "code",
   "execution_count": 2,
   "metadata": {},
   "outputs": [
    {
     "output_type": "execute_result",
     "data": {
      "text/plain": [
       "(3400, 17, 3)"
      ]
     },
     "metadata": {},
     "execution_count": 2
    }
   ],
   "source": [
    "raw_data[0].shape "
   ]
  },
  {
   "cell_type": "code",
   "execution_count": 4,
   "metadata": {},
   "outputs": [
    {
     "output_type": "execute_result",
     "data": {
      "text/plain": [
       "torch.Size([1493472, 17, 3])"
      ]
     },
     "metadata": {},
     "execution_count": 4
    }
   ],
   "source": [
    "tensor_data.shape "
   ]
  },
  {
   "cell_type": "code",
   "execution_count": 1,
   "metadata": {},
   "outputs": [],
   "source": [
    "def one_hot_encoding(n_cls, label):\n",
    "    \"\"\" \n",
    "        n_cls (int): number of classes\n",
    "        label (tensor): true label of the data, tensor format \n",
    "    \"\"\"\n",
    "    one_hot_label = torch.eye(n_cls)[label]\n",
    "    return one_hot_label\n",
    "    "
   ]
  },
  {
   "cell_type": "code",
   "execution_count": 5,
   "metadata": {},
   "outputs": [],
   "source": [
    "import json \n",
    "with open(\"data/tcg.json\") as f:\n",
    "    label_json = json.load(f)\n",
    "\n",
    "seq_labels = label_json['sequences']\n"
   ]
  },
  {
   "cell_type": "code",
   "execution_count": 8,
   "metadata": {
    "tags": [
     "outputPrepend"
    ]
   },
   "outputs": [
    {
     "output_type": "stream",
     "name": "stdout",
     "text": [
      ", {'id': 2, 'position': 'left', 'intention': 'goes right', 'queue': 1}], 'agent_number': 0, 'annotation': [['inactive', 'normal-pose', 0, 112], ['inactive', 'out-of-vocabulary', 112, 459], ['inactive', 'normal-pose', 459, 772], ['inactive', 'transition', 772, 810], ['go', 'right-dynamic', 810, 960]], 'num_frames': 960}\n{'subject_id': 3, 'junction': 'T', 'scene_id': 5, 'scene_agents': [{'id': 1, 'position': 'right', 'intention': 'goes straight', 'queue': 1}, {'id': 3, 'position': 'bottom', 'intention': 'goes left', 'queue': 2}, {'id': 2, 'position': 'left', 'intention': 'goes right', 'queue': 1}], 'agent_number': 0, 'annotation': [['inactive', 'normal-pose', 0, 300], ['inactive', 'out-of-vocabulary', 300, 925], ['inactive', 'normal-pose', 925, 1452], ['inactive', 'transition', 1452, 1534], ['go', 'left-dynamic', 1534, 1803]], 'num_frames': 1803}\n{'subject_id': 3, 'junction': 'T', 'scene_id': 5, 'scene_agents': [{'id': 1, 'position': 'right', 'intention': 'goes straight', 'queue': 1}, {'id': 3, 'position': 'bottom', 'intention': 'goes left', 'queue': 2}, {'id': 2, 'position': 'left', 'intention': 'goes right', 'queue': 1}], 'agent_number': 2, 'annotation': [['inactive', 'normal-pose', 0, 300], ['inactive', 'out-of-vocabulary', 300, 925], ['inactive', 'normal-pose', 925, 1145], ['inactive', 'transition', 1145, 1160], ['go', 'right-dynamic', 1160, 1270]], 'num_frames': 1270}\n{'subject_id': 3, 'junction': 'T', 'scene_id': 5, 'scene_agents': [{'id': 1, 'position': 'right', 'intention': 'goes straight', 'queue': 1}, {'id': 3, 'position': 'bottom', 'intention': 'goes left', 'queue': 2}, {'id': 2, 'position': 'left', 'intention': 'goes right', 'queue': 1}], 'agent_number': 2, 'annotation': [['inactive', 'normal-pose', 0, 276], ['inactive', 'out-of-vocabulary', 276, 560], ['inactive', 'normal-pose', 560, 797], ['inactive', 'transition', 797, 959], ['go', 'right-dynamic', 959, 1074]], 'num_frames': 1074}\n{'subject_id': 3, 'junction': 'T', 'scene_id': 5, 'scene_agents': [{'id': 1, 'position': 'right', 'intention': 'goes straight', 'queue': 1}, {'id': 3, 'position': 'bottom', 'intention': 'goes left', 'queue': 2}, {'id': 2, 'position': 'left', 'intention': 'goes right', 'queue': 1}], 'agent_number': 0, 'annotation': [['inactive', 'normal-pose', 0, 276], ['inactive', 'out-of-vocabulary', 276, 560], ['inactive', 'normal-pose', 560, 663], ['go', 'left-dynamic', 663, 798]], 'num_frames': 798}\n{'subject_id': 3, 'junction': 'T', 'scene_id': 5, 'scene_agents': [{'id': 1, 'position': 'right', 'intention': 'goes straight', 'queue': 1}, {'id': 3, 'position': 'bottom', 'intention': 'goes left', 'queue': 2}, {'id': 2, 'position': 'left', 'intention': 'goes right', 'queue': 1}], 'agent_number': 2, 'annotation': [['inactive', 'normal-pose', 0, 217], ['inactive', 'out-of-vocabulary', 217, 694], ['inactive', 'normal-pose', 694, 832], ['inactive', 'transition', 832, 860], ['go', 'right-dynamic', 860, 984]], 'num_frames': 984}\n{'subject_id': 3, 'junction': 'T', 'scene_id': 5, 'scene_agents': [{'id': 1, 'position': 'right', 'intention': 'goes straight', 'queue': 1}, {'id': 3, 'position': 'bottom', 'intention': 'goes left', 'queue': 2}, {'id': 2, 'position': 'left', 'intention': 'goes right', 'queue': 1}], 'agent_number': 0, 'annotation': [['inactive', 'normal-pose', 0, 217], ['inactive', 'out-of-vocabulary', 217, 694], ['inactive', 'normal-pose', 694, 1098], ['inactive', 'transition', 1098, 1129], ['go', 'right-dynamic', 1129, 1269]], 'num_frames': 1269}\n{'subject_id': 3, 'junction': 'T', 'scene_id': 5, 'scene_agents': [{'id': 1, 'position': 'right', 'intention': 'goes straight', 'queue': 1}, {'id': 3, 'position': 'bottom', 'intention': 'goes left', 'queue': 2}, {'id': 2, 'position': 'left', 'intention': 'goes right', 'queue': 1}], 'agent_number': 0, 'annotation': [['inactive', 'normal-pose', 0, 400], ['inactive', 'out-of-vocabulary', 400, 694], ['inactive', 'normal-pose', 694, 1242], ['inactive', 'transition', 1242, 1265], ['go', 'right-dynamic', 1265, 1436]], 'num_frames': 1436}\n{'subject_id': 3, 'junction': 'T', 'scene_id': 5, 'scene_agents': [{'id': 1, 'position': 'right', 'intention': 'goes straight', 'queue': 1}, {'id': 3, 'position': 'bottom', 'intention': 'goes left', 'queue': 2}, {'id': 2, 'position': 'left', 'intention': 'goes right', 'queue': 1}], 'agent_number': 2, 'annotation': [['inactive', 'normal-pose', 0, 400], ['inactive', 'out-of-vocabulary', 400, 694], ['inactive', 'normal-pose', 694, 1038], ['inactive', 'transition', 1038, 1051], ['go', 'right-static', 1051, 1188]], 'num_frames': 1188}\n{'subject_id': 3, 'junction': 'X', 'scene_id': 3, 'scene_agents': [{'id': 1, 'position': 'bottom', 'intention': 'goes right', 'queue': 1}, {'id': 3, 'position': 'left', 'intention': 'goes straight', 'queue': 2}], 'agent_number': 0, 'annotation': [['inactive', 'out-of-vocabulary', 0, 717], ['inactive', 'transition', 717, 773], ['go', 'both-static', 773, 870], ['go', 'right-dynamic', 870, 960], ['go', 'both-static', 960, 1052], ['go', 'right-dynamic', 1052, 1182], ['go', 'both-static', 1182, 2014]], 'num_frames': 2014}\n{'subject_id': 3, 'junction': 'X', 'scene_id': 3, 'scene_agents': [{'id': 1, 'position': 'bottom', 'intention': 'goes right', 'queue': 1}, {'id': 3, 'position': 'left', 'intention': 'goes straight', 'queue': 2}], 'agent_number': 0, 'annotation': [['inactive', 'normal-pose', 0, 915], ['inactive', 'transition', 915, 960], ['go', 'right-dynamic', 960, 1037]], 'num_frames': 1037}\n{'subject_id': 3, 'junction': 'X', 'scene_id': 3, 'scene_agents': [{'id': 1, 'position': 'bottom', 'intention': 'goes right', 'queue': 1}, {'id': 3, 'position': 'left', 'intention': 'goes straight', 'queue': 2}], 'agent_number': 0, 'annotation': [['inactive', 'normal-pose', 0, 860], ['inactive', 'transition', 860, 872], ['go', 'right-dynamic', 872, 976]], 'num_frames': 976}\n{'subject_id': 3, 'junction': 'X', 'scene_id': 3, 'scene_agents': [{'id': 1, 'position': 'bottom', 'intention': 'goes right', 'queue': 1}, {'id': 3, 'position': 'left', 'intention': 'goes straight', 'queue': 2}], 'agent_number': 0, 'annotation': [['inactive', 'normal-pose', 0, 859], ['inactive', 'transition', 859, 883], ['go', 'both-static', 883, 1098], ['go', 'left-dynamic', 1098, 1259]], 'num_frames': 1259}\n{'subject_id': 4, 'junction': 'T', 'scene_id': 5, 'scene_agents': [{'id': 1, 'position': 'right', 'intention': 'goes straight', 'queue': 1}, {'id': 3, 'position': 'bottom', 'intention': 'goes left', 'queue': 2}, {'id': 2, 'position': 'left', 'intention': 'goes right', 'queue': 1}], 'agent_number': 2, 'annotation': [['inactive', 'normal-pose', 0, 350], ['inactive', 'out-of-vocabulary', 350, 530], ['inactive', 'normal-pose', 530, 772], ['inactive', 'transition', 772, 800], ['go', 'right-dynamic', 800, 1002], ['go', 'right-static', 1002, 1144], ['go', 'right-dynamic', 1144, 1212]], 'num_frames': 1212}\n{'subject_id': 4, 'junction': 'T', 'scene_id': 5, 'scene_agents': [{'id': 1, 'position': 'right', 'intention': 'goes straight', 'queue': 1}, {'id': 3, 'position': 'bottom', 'intention': 'goes left', 'queue': 2}, {'id': 2, 'position': 'left', 'intention': 'goes right', 'queue': 1}], 'agent_number': 0, 'annotation': [['inactive', 'normal-pose', 0, 350], ['inactive', 'out-of-vocabulary', 350, 530], ['inactive', 'normal-pose', 530, 1001], ['inactive', 'transition', 1001, 1029], ['go', 'left-dynamic', 1029, 1157]], 'num_frames': 1157}\n{'subject_id': 4, 'junction': 'T', 'scene_id': 5, 'scene_agents': [{'id': 1, 'position': 'right', 'intention': 'goes straight', 'queue': 1}, {'id': 3, 'position': 'bottom', 'intention': 'goes left', 'queue': 2}, {'id': 2, 'position': 'left', 'intention': 'goes right', 'queue': 1}], 'agent_number': 0, 'annotation': [['inactive', 'normal-pose', 0, 499], ['inactive', 'transition', 499, 524], ['stop', 'left-static', 524, 827], ['inactive', 'transition', 827, 903], ['go', 'left-dynamic', 903, 1186]], 'num_frames': 1186}\n{'subject_id': 4, 'junction': 'T', 'scene_id': 5, 'scene_agents': [{'id': 1, 'position': 'right', 'intention': 'goes straight', 'queue': 1}, {'id': 3, 'position': 'bottom', 'intention': 'goes left', 'queue': 2}, {'id': 2, 'position': 'left', 'intention': 'goes right', 'queue': 1}], 'agent_number': 2, 'annotation': [['inactive', 'normal-pose', 0, 593], ['inactive', 'transition', 593, 626], ['stop', 'right-static', 626, 707], ['go', 'right-dynamic', 707, 868]], 'num_frames': 868}\n{'subject_id': 4, 'junction': 'T', 'scene_id': 5, 'scene_agents': [{'id': 1, 'position': 'right', 'intention': 'goes straight', 'queue': 1}, {'id': 3, 'position': 'bottom', 'intention': 'goes left', 'queue': 2}, {'id': 2, 'position': 'left', 'intention': 'goes right', 'queue': 1}], 'agent_number': 2, 'annotation': [['inactive', 'normal-pose', 0, 470], ['inactive', 'transition', 470, 494], ['go', 'right-dynamic', 494, 697]], 'num_frames': 697}\n{'subject_id': 4, 'junction': 'T', 'scene_id': 5, 'scene_agents': [{'id': 1, 'position': 'right', 'intention': 'goes straight', 'queue': 1}, {'id': 3, 'position': 'bottom', 'intention': 'goes left', 'queue': 2}, {'id': 2, 'position': 'left', 'intention': 'goes right', 'queue': 1}], 'agent_number': 0, 'annotation': [['inactive', 'normal-pose', 0, 696], ['inactive', 'transition', 696, 719], ['go', 'right-dynamic', 719, 878]], 'num_frames': 878}\n{'subject_id': 4, 'junction': 'T', 'scene_id': 5, 'scene_agents': [{'id': 1, 'position': 'right', 'intention': 'goes straight', 'queue': 1}, {'id': 3, 'position': 'bottom', 'intention': 'goes left', 'queue': 2}, {'id': 2, 'position': 'left', 'intention': 'goes right', 'queue': 1}], 'agent_number': 2, 'annotation': [['inactive', 'normal-pose', 0, 499], ['inactive', 'transition', 499, 522], ['go', 'right-dynamic', 522, 728]], 'num_frames': 728}\n{'subject_id': 4, 'junction': 'T', 'scene_id': 5, 'scene_agents': [{'id': 1, 'position': 'right', 'intention': 'goes straight', 'queue': 1}, {'id': 3, 'position': 'bottom', 'intention': 'goes left', 'queue': 2}, {'id': 2, 'position': 'left', 'intention': 'goes right', 'queue': 1}], 'agent_number': 0, 'annotation': [['inactive', 'normal-pose', 0, 828], ['inactive', 'transition', 828, 858], ['go', 'left-dynamic', 858, 1027]], 'num_frames': 1027}\n{'subject_id': 4, 'junction': 'T', 'scene_id': 5, 'scene_agents': [{'id': 1, 'position': 'right', 'intention': 'goes straight', 'queue': 1}, {'id': 3, 'position': 'bottom', 'intention': 'goes left', 'queue': 2}, {'id': 2, 'position': 'left', 'intention': 'goes right', 'queue': 1}], 'agent_number': 0, 'annotation': [['inactive', 'normal-pose', 0, 258], ['inactive', 'out-of-vocabulary', 258, 442], ['inactive', 'normal-pose', 442, 492], ['inactive', 'out-of-vocabulary', 492, 568], ['inactive', 'normal-pose', 568, 1097], ['inactive', 'transition', 1097, 1114], ['go', 'right-dynamic', 1114, 1283]], 'num_frames': 1283}\n{'subject_id': 4, 'junction': 'T', 'scene_id': 5, 'scene_agents': [{'id': 1, 'position': 'right', 'intention': 'goes straight', 'queue': 1}, {'id': 3, 'position': 'bottom', 'intention': 'goes left', 'queue': 2}, {'id': 2, 'position': 'left', 'intention': 'goes right', 'queue': 1}], 'agent_number': 2, 'annotation': [['inactive', 'normal-pose', 0, 258], ['inactive', 'out-of-vocabulary', 258, 442], ['inactive', 'normal-pose', 442, 492], ['inactive', 'out-of-vocabulary', 492, 568], ['inactive', 'normal-pose', 568, 733], ['inactive', 'transition', 733, 754], ['go', 'right-dynamic', 754, 887]], 'num_frames': 887}\n{'subject_id': 4, 'junction': 'X', 'scene_id': 3, 'scene_agents': [{'id': 1, 'position': 'bottom', 'intention': 'goes right', 'queue': 1}, {'id': 3, 'position': 'left', 'intention': 'goes straight', 'queue': 2}], 'agent_number': 0, 'annotation': [['inactive', 'normal-pose', 0, 272], ['inactive', 'transition', 272, 287], ['go', 'left-dynamic', 287, 629]], 'num_frames': 629}\n{'subject_id': 4, 'junction': 'X', 'scene_id': 5, 'scene_agents': [{'id': 1, 'position': 'right', 'intention': 'goes left', 'queue': 3}, {'id': 4, 'position': 'bottom', 'intention': 'goes straight', 'queue': 1}, {'id': 3, 'position': 'left', 'intention': 'goes left', 'queue': 3}, {'id': 2, 'position': 'top', 'intention': 'goes left', 'queue': 2}], 'agent_number': 3, 'annotation': [['inactive', 'normal-pose', 0, 333], ['inactive', 'transition', 333, 380], ['stop', 'both-static', 380, 776], ['stop', 'left-static', 776, 937], ['stop', 'both-static', 937, 1342], ['inactive', 'transition', 1342, 1384], ['inactive', 'normal-pose', 1384, 1694], ['inactive', 'out-of-vocabulary', 1694, 1914], ['inactive', 'normal-pose', 1914, 1995], ['inactive', 'transition', 1995, 2111], ['clear', 'right-static', 2111, 2186], ['inactive', 'transition', 2186, 2238], ['go', 'right-dynamic', 2238, 2647]], 'num_frames': 2647}\n{'subject_id': 4, 'junction': 'X', 'scene_id': 5, 'scene_agents': [{'id': 1, 'position': 'right', 'intention': 'goes left', 'queue': 3}, {'id': 4, 'position': 'bottom', 'intention': 'goes straight', 'queue': 1}, {'id': 3, 'position': 'left', 'intention': 'goes left', 'queue': 3}, {'id': 2, 'position': 'top', 'intention': 'goes left', 'queue': 2}], 'agent_number': 3, 'annotation': [['inactive', 'normal-pose', 0, 288], ['inactive', 'transition', 288, 332], ['stop', 'both-static', 332, 466], ['inactive', 'transition', 466, 500], ['inactive', 'transition', 500, 519], ['stop', 'left-static', 519, 1425], ['inactive', 'transition', 1425, 1454], ['go', 'left-dynamic', 1454, 1658], ['inactive', 'transition', 1658, 1677], ['inactive', 'normal-pose', 1677, 1805], ['inactive', 'transition', 1805, 1826], ['go', 'left-dynamic', 1826, 1893]], 'num_frames': 1893}\n{'subject_id': 5, 'junction': 'T', 'scene_id': 4, 'scene_agents': [{'id': 1, 'position': 'right', 'intention': 'goes straight', 'queue': 1}, {'id': 3, 'position': 'bottom', 'intention': 'goes right', 'queue': 2}, {'id': 2, 'position': 'left', 'intention': 'goes straight', 'queue': 1}], 'agent_number': 2, 'annotation': [['inactive', 'normal-pose', 0, 1047], ['inactive', 'transition', 1047, 1100], ['go', 'right-dynamic', 1100, 1308], ['inactive', 'transition', 1308, 1362], ['inactive', 'normal-pose', 1362, 1671], ['go', 'right-dynamic', 1671, 1791]], 'num_frames': 1791}\n{'subject_id': 5, 'junction': 'T', 'scene_id': 4, 'scene_agents': [{'id': 1, 'position': 'right', 'intention': 'goes straight', 'queue': 1}, {'id': 3, 'position': 'bottom', 'intention': 'goes right', 'queue': 2}, {'id': 2, 'position': 'left', 'intention': 'goes straight', 'queue': 1}], 'agent_number': 0, 'annotation': [['inactive', 'normal-pose', 0, 929], ['inactive', 'transition', 929, 948], ['stop', 'left-static', 948, 1380], ['inactive', 'transition', 1380, 1414], ['go', 'left-dynamic', 1414, 1506], ['inactive', 'normal-pose', 1506, 1606], ['inactive', 'transition', 1606, 1625], ['go', 'left-dynamic', 1625, 1678]], 'num_frames': 1678}\n{'subject_id': 5, 'junction': 'T', 'scene_id': 5, 'scene_agents': [{'id': 1, 'position': 'right', 'intention': 'goes straight', 'queue': 1}, {'id': 3, 'position': 'bottom', 'intention': 'goes left', 'queue': 2}, {'id': 2, 'position': 'left', 'intention': 'goes right', 'queue': 1}], 'agent_number': 0, 'annotation': [['inactive', 'normal-pose', 0, 888], ['inactive', 'transition', 888, 900], ['go', 'right-dynamic', 900, 1139]], 'num_frames': 1139}\n{'subject_id': 5, 'junction': 'T', 'scene_id': 5, 'scene_agents': [{'id': 1, 'position': 'right', 'intention': 'goes straight', 'queue': 1}, {'id': 3, 'position': 'bottom', 'intention': 'goes left', 'queue': 2}, {'id': 2, 'position': 'left', 'intention': 'goes right', 'queue': 1}], 'agent_number': 2, 'annotation': [['inactive', 'normal-pose', 0, 624], ['inactive', 'transition', 624, 635], ['go', 'right-dynamic', 635, 888]], 'num_frames': 888}\n{'subject_id': 5, 'junction': 'T', 'scene_id': 5, 'scene_agents': [{'id': 1, 'position': 'right', 'intention': 'goes straight', 'queue': 1}, {'id': 3, 'position': 'bottom', 'intention': 'goes left', 'queue': 2}, {'id': 2, 'position': 'left', 'intention': 'goes right', 'queue': 1}], 'agent_number': 0, 'annotation': [['inactive', 'normal-pose', 0, 819], ['inactive', 'transition', 819, 839], ['go', 'right-dynamic', 839, 1195]], 'num_frames': 1195}\n{'subject_id': 5, 'junction': 'T', 'scene_id': 5, 'scene_agents': [{'id': 1, 'position': 'right', 'intention': 'goes straight', 'queue': 1}, {'id': 3, 'position': 'bottom', 'intention': 'goes left', 'queue': 2}, {'id': 2, 'position': 'left', 'intention': 'goes right', 'queue': 1}], 'agent_number': 2, 'annotation': [['inactive', 'normal-pose', 0, 1194], ['inactive', 'transition', 1194, 1249], ['go', 'right-dynamic', 1249, 1578]], 'num_frames': 1578}\n{'subject_id': 5, 'junction': 'T', 'scene_id': 5, 'scene_agents': [{'id': 1, 'position': 'right', 'intention': 'goes straight', 'queue': 1}, {'id': 3, 'position': 'bottom', 'intention': 'goes left', 'queue': 2}, {'id': 2, 'position': 'left', 'intention': 'goes right', 'queue': 1}], 'agent_number': 2, 'annotation': [['inactive', 'normal-pose', 0, 1112], ['inactive', 'transition', 1112, 1160], ['go', 'right-dynamic', 1160, 1577]], 'num_frames': 1577}\n{'subject_id': 5, 'junction': 'T', 'scene_id': 5, 'scene_agents': [{'id': 1, 'position': 'right', 'intention': 'goes straight', 'queue': 1}, {'id': 3, 'position': 'bottom', 'intention': 'goes left', 'queue': 2}, {'id': 2, 'position': 'left', 'intention': 'goes right', 'queue': 1}], 'agent_number': 2, 'annotation': [['inactive', 'normal-pose', 0, 941], ['inactive', 'transition', 941, 970], ['go', 'right-dynamic', 970, 1219]], 'num_frames': 1219}\n{'subject_id': 5, 'junction': 'T', 'scene_id': 5, 'scene_agents': [{'id': 1, 'position': 'right', 'intention': 'goes straight', 'queue': 1}, {'id': 3, 'position': 'bottom', 'intention': 'goes left', 'queue': 2}, {'id': 2, 'position': 'left', 'intention': 'goes right', 'queue': 1}], 'agent_number': 0, 'annotation': [['inactive', 'normal-pose', 0, 769], ['inactive', 'transition', 769, 794], ['go', 'right-dynamic', 794, 941]], 'num_frames': 941}\n{'subject_id': 5, 'junction': 'T', 'scene_id': 5, 'scene_agents': [{'id': 1, 'position': 'right', 'intention': 'goes straight', 'queue': 1}, {'id': 3, 'position': 'bottom', 'intention': 'goes left', 'queue': 2}, {'id': 2, 'position': 'left', 'intention': 'goes right', 'queue': 1}], 'agent_number': 0, 'annotation': [['inactive', 'normal-pose', 0, 1139], ['inactive', 'transition', 1139, 1174], ['go', 'right-dynamic', 1174, 1394]], 'num_frames': 1394}\n{'subject_id': 5, 'junction': 'T', 'scene_id': 5, 'scene_agents': [{'id': 1, 'position': 'right', 'intention': 'goes straight', 'queue': 1}, {'id': 3, 'position': 'bottom', 'intention': 'goes left', 'queue': 2}, {'id': 2, 'position': 'left', 'intention': 'goes right', 'queue': 1}], 'agent_number': 2, 'annotation': [['inactive', 'normal-pose', 0, 634], ['inactive', 'transition', 634, 661], ['stop', 'right-static', 661, 769], ['stop', 'both-static', 769, 1037], ['inactive', 'normal-pose', 1037, 1464], ['inactive', 'transition', 1464, 1500], ['go', 'right-dynamic', 1500, 1773]], 'num_frames': 1773}\n{'subject_id': 5, 'junction': 'X', 'scene_id': 4, 'scene_agents': [{'id': 1, 'position': 'right', 'intention': 'goes straight', 'queue': 1}, {'id': 3, 'position': 'left', 'intention': 'goes straight', 'queue': 1}, {'id': 2, 'position': 'top', 'intention': 'goes straight', 'queue': 2}], 'agent_number': 1, 'annotation': [['inactive', 'normal-pose', 0, 584], ['inactive', 'transition', 584, 672], ['go', 'both-static', 672, 962], ['go', 'left-static', 962, 1248], ['go', 'left-dynamic', 1248, 1450]], 'num_frames': 1450}\n{'subject_id': 5, 'junction': 'X', 'scene_id': 4, 'scene_agents': [{'id': 1, 'position': 'right', 'intention': 'goes straight', 'queue': 1}, {'id': 3, 'position': 'left', 'intention': 'goes straight', 'queue': 1}, {'id': 2, 'position': 'top', 'intention': 'goes straight', 'queue': 2}], 'agent_number': 0, 'annotation': [['inactive', 'normal-pose', 0, 584], ['inactive', 'transition', 584, 672], ['go', 'both-static', 672, 962], ['go', 'right-dynamic', 962, 1248]], 'num_frames': 1248}\n"
     ]
    }
   ],
   "source": [
    "for one_label in seq_labels:\n",
    "    anno = one_label[\"annotation\"]\n",
    "    last_phase = anno[-1]\n",
    "    if last_phase[0]!= \"inactive\":\n",
    "        print(last_phase[0])\n",
    "        "
   ]
  },
  {
   "cell_type": "code",
   "execution_count": 11,
   "metadata": {},
   "outputs": [],
   "source": [
    "seq_labels = label_json['sequences']"
   ]
  },
  {
   "cell_type": "code",
   "execution_count": 21,
   "metadata": {},
   "outputs": [
    {
     "output_type": "stream",
     "name": "stdout",
     "text": [
      "3400\n3384\n3254\n3325\n3009\n2889\n3009\n2497\n2927\n2632\n2732\n2732\n2854\n2854\n2711\n2711\n3496\n3496\n3263\n3263\n2919\n4346\n2945\n2190\n3840\n2190\n4287\n2259\n2259\n1743\n1528\n3996\n1600\n4216\n1524\n1992\n1992\n3650\n4178\n1957\n1957\n1903\n3982\n1176\n1040\n1474\n4127\n1329\n4141\n1582\n3075\n2867\n2736\n2340\n1983\n2782\n2782\n3232\n3232\n3015\n3015\n2693\n2693\n2906\n2906\n1471\n4164\n3229\n2484\n1680\n3335\n1386\n3202\n3059\n1125\n1661\n3086\n1661\n1525\n1360\n3563\n3350\n1079\n1248\n1441\n3313\n1712\n2784\n1510\n1510\n5271\n2479\n3732\n5271\n5314\n1571\n5314\n2431\n5466\n1671\n2638\n5466\n4690\n1536\n2211\n4690\n6225\n1760\n6225\n2800\n2757\n1946\n2010\n1887\n2164\n1805\n2393\n2279\n2299\n3014\n2371\n2371\n2574\n2574\n2919\n2919\n1796\n1796\n2562\n2562\n7709\n8110\n7709\n2205\n8967\n2205\n1465\n1467\n2807\n2165\n3352\n2165\n2586\n2043\n4161\n1644\n4545\n2019\n1503\n4483\n1741\n3192\n3192\n5434\n2509\n5006\n2509\n5368\n2846\n2846\n1805\n2895\n2371\n2470\n2761\n3938\n3938\n3614\n3614\n3600\n3600\n3904\n3904\n4218\n4218\n1901\n3450\n1852\n2961\n3257\n1846\n4117\n2473\n1964\n3279\n1072\n2650\n1072\n3324\n1678\n1678\n1953\n3646\n1558\n1620\n3391\n1620\n3441\n1280\n1586\n2474\n1370\n4691\n4691\n1429\n4560\n2436\n4560\n1011\n3522\n1944\n3522\n3551\n2348\n8391\n8391\n8008\n3785\n8008\n2045\n2760\n2706\n2194\n2391\n1989\n2204\n3189\n3992\n3735\n3474\n2438\n2438\n2450\n2450\n2824\n2824\n2861\n2861\n1612\n1612\n1610\n3135\n1610\n1563\n3309\n1563\n832\n586\n3273\n892\n2899\n723\n2644\n908\n1154\n771\n3379\n960\n1803\n3998\n1270\n3162\n1074\n798\n984\n3617\n1269\n1436\n1188\n3243\n2308\n1757\n1955\n1792\n1977\n2950\n2950\n2036\n2036\n2623\n2623\n3949\n3949\n4017\n4017\n2014\n3675\n1979\n3817\n1037\n3473\n976\n3202\n3982\n1259\n3331\n1688\n1688\n1682\n2730\n1682\n938\n1220\n3161\n904\n1099\n2829\n975\n2973\n1251\n1785\n4258\n2070\n4258\n1598\n1290\n3880\n3880\n4514\n1889\n4514\n1733\n4289\n1918\n4289\n1332\n2584\n2416\n4604\n4604\n3399\n2874\n2891\n2531\n2996\n2608\n2665\n2089\n2653\n3106\n2960\n2960\n2823\n2823\n3400\n3400\n3017\n3017\n3404\n3404\n1942\n3167\n1942\n3397\n1776\n1776\n630\n2612\n992\n1121\n1383\n2871\n3649\n1451\n883\n2928\n1212\n1157\n1186\n868\n4066\n697\n2980\n878\n3943\n728\n1027\n1283\n3734\n887\n2940\n2484\n2867\n1961\n3232\n2218\n2218\n2633\n2633\n3345\n3345\n3527\n3527\n2687\n2687\n2619\n4049\n2127\n3791\n3067\n629\n429\n3120\n3800\n617\n2985\n1619\n1619\n1375\n2436\n1375\n871\n1255\n3213\n651\n713\n3343\n915\n2573\n1043\n5502\n1384\n5502\n2647\n5120\n1454\n1893\n5120\n5473\n1425\n2434\n5473\n2315\n1629\n5422\n5422\n5484\n1629\n408\n5484\n2786\n2219\n3582\n3267\n2840\n3018\n2863\n2853\n2786\n3073\n2989\n2989\n3081\n3081\n2568\n2568\n2736\n2736\n2719\n2719\n1591\n3606\n1611\n1840\n3917\n1791\n3897\n1413\n1598\n1616\n3332\n1678\n1716\n2175\n3936\n1139\n888\n3549\n1195\n3867\n1578\n1148\n1577\n3924\n1219\n3386\n941\n1394\n3991\n1773\n2437\n1784\n2520\n2497\n2145\n2164\n2164\n2507\n2507\n2921\n2921\n3131\n3131\n3527\n3527\n3602\n931\n3605\n2250\n2236\n3804\n2285\n4230\n3572\n1134\n1450\n3133\n1248\n3399\n1837\n1837\n1272\n3860\n989\n1506\n3923\n1093\n3830\n1590\n1269\n2250\n1396\n4216\n4216\n1816\n4593\n2045\n4593\n3916\n3916\n1171\n1930\n1142\n4424\n2361\n4424\n2736\n1803\n6132\n6132\n"
     ]
    }
   ],
   "source": [
    "for one_label in seq_labels:\n",
    "    num_label = {\"inactive\": 0, \"stop\": 1, \"go\": 2, \"clear\": 3}\n",
    "    "
   ]
  },
  {
   "cell_type": "code",
   "execution_count": 20,
   "metadata": {},
   "outputs": [
    {
     "output_type": "execute_result",
     "data": {
      "text/plain": [
       "{'agent_number': 0,\n",
       " 'annotation': [['inactive', 'normal-pose', 0, 1045],\n",
       "  ['inactive', 'transition', 1045, 1112],\n",
       "  ['stop', 'both-static', 1112, 1461],\n",
       "  ['inactive', 'transition', 1461, 1573],\n",
       "  ['clear', 'right-static', 1573, 1818],\n",
       "  ['inactive', 'transition', 1818, 1951],\n",
       "  ['go', 'both-static', 1951, 2482],\n",
       "  ['inactive', 'transition', 2482, 2582],\n",
       "  ['inactive', 'normal-pose', 2582, 3400]],\n",
       " 'junction': 'T',\n",
       " 'num_frames': 3400,\n",
       " 'scene_agents': [{'id': 1,\n",
       "   'intention': 'goes straight',\n",
       "   'position': 'right',\n",
       "   'queue': 1}],\n",
       " 'scene_id': 1,\n",
       " 'subject_id': 1}"
      ]
     },
     "metadata": {},
     "execution_count": 20
    }
   ],
   "source": [
    "seq_labels[0]"
   ]
  },
  {
   "cell_type": "code",
   "execution_count": 31,
   "metadata": {},
   "outputs": [
    {
     "output_type": "execute_result",
     "data": {
      "text/plain": [
       "[['inactive', 'normal-pose', 0, 717],\n",
       " ['inactive', 'transition', 717, 741],\n",
       " ['stop', 'right-static', 741, 894],\n",
       " ['inactive', 'transition', 894, 906],\n",
       " ['inactive', 'normal-pose', 906, 3574],\n",
       " ['inactive', 'transition', 3574, 3614],\n",
       " ['go', 'right-dynamic', 3614, 3795],\n",
       " ['inactive', 'normal-pose', 3795, 5659],\n",
       " ['inactive', 'out-of-vocabulary', 5659, 5921],\n",
       " ['inactive', 'normal-pose', 5921, 6132]]"
      ]
     },
     "metadata": {},
     "execution_count": 31
    }
   ],
   "source": [
    "one_label[\"annotation\"]"
   ]
  },
  {
   "cell_type": "code",
   "execution_count": null,
   "metadata": {},
   "outputs": [],
   "source": []
  }
 ]
}